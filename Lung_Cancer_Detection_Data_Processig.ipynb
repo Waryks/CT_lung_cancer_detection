{
 "cells": [
  {
   "cell_type": "code",
   "execution_count": 54,
   "id": "0a4b3d42",
   "metadata": {},
   "outputs": [],
   "source": [
    "#pip install numpy\n",
    "#pip install SimpleITK"
   ]
  },
  {
   "cell_type": "code",
   "execution_count": 3,
   "id": "32ec96ce",
   "metadata": {},
   "outputs": [],
   "source": [
    "import SimpleITK as sitk\n",
    "import matplotlib.pylab as plt\n",
    "import numpy as np\n",
    "from PIL import Image\n",
    "import cv2\n",
    "from skimage import color\n",
    "from skimage import io\n",
    "import lodgepole as lit\n",
    "from image_tools.sizes import resize_and_crop\n",
    "import matplotlib.image as mpimg\n",
    "import pandas as pd \n",
    "from sklearn.model_selection import train_test_split\n",
    "import skimage, os\n",
    "from skimage.morphology import ball, disk, dilation, binary_erosion, remove_small_objects, erosion, closing, reconstruction, binary_closing\n",
    "from skimage.measure import label,regionprops, perimeter\n",
    "from skimage.morphology import binary_dilation, binary_opening\n",
    "from skimage.filters import roberts, sobel\n",
    "from skimage import measure, feature\n",
    "from skimage.segmentation import clear_border, mark_boundaries\n",
    "from skimage import data\n",
    "from scipy import ndimage as ndi\n",
    "import matplotlib.pyplot as plt\n",
    "from mpl_toolkits.mplot3d.art3d import Poly3DCollection\n",
    "import scipy.misc\n",
    "from glob import glob\n",
    "from skimage.io import imread"
   ]
  },
  {
   "cell_type": "code",
   "execution_count": 48,
   "id": "53652960",
   "metadata": {},
   "outputs": [
    {
     "name": "stderr",
     "output_type": "stream",
     "text": [
      "D:\\TEMP/ipykernel_22864/1510693624.py:4: FutureWarning: In a future version of pandas all arguments of DataFrame.drop except for the argument 'labels' will be keyword-only\n",
      "  train_label = train_label.drop(2, 1)\n"
     ]
    }
   ],
   "source": [
    "fleischner_data = pd.read_csv(\"d:/Licenta/CSV/Train/trainFleischner.csv\", skiprows=[0], header = None)\n",
    "fleischner_data = fleischner_data.values.tolist()\n",
    "train_label = pd.read_csv(\"d:/Licenta/CSV/Train/trainNodules_gt.csv\", skiprows=[0], header = None)\n",
    "train_label = train_label.drop(2, 1)\n",
    "train_label = train_label.values.tolist()\n",
    "#ID | No. Rad | Finding ID | x y z | Agreement | Nodule | Volume | Texture\n",
    "for el in train_label:\n",
    "    el[1] = len(el[1].split(','))\n",
    "#print(len(train_label[0][1].split(',')))\n",
    "#print(train_label)"
   ]
  },
  {
   "cell_type": "code",
   "execution_count": 124,
   "id": "b14da4f1",
   "metadata": {},
   "outputs": [],
   "source": [
    "def get_segmented_lungs(im, plot=False):\n",
    "    \n",
    "    '''\n",
    "    This funtion segments the lungs from the given 2D slice.\n",
    "    '''\n",
    "    if plot == True:\n",
    "        f, plots = plt.subplots(8, 1, figsize=(10, 40))\n",
    "    '''\n",
    "    Step 1: Convert into a binary image. \n",
    "    '''\n",
    "    binary = im < -200\n",
    "    if plot == True:\n",
    "        plots[0].axis('off')\n",
    "        plots[0].imshow(binary, cmap=plt.cm.bone) \n",
    "    '''\n",
    "    Step 2: Remove the blobs connected to the border of the image.\n",
    "    '''\n",
    "    cleared = clear_border(binary)\n",
    "    if plot == True:\n",
    "        plots[1].axis('off')\n",
    "        plots[1].imshow(cleared, cmap=plt.cm.bone) \n",
    "    '''\n",
    "    Step 3: Label the image.\n",
    "    '''\n",
    "    label_image = label(cleared)\n",
    "    if plot == True:\n",
    "        plots[2].axis('off')\n",
    "        plots[2].imshow(label_image, cmap=plt.cm.bone) \n",
    "    '''\n",
    "    Step 4: Keep the labels with 2 largest areas.\n",
    "    '''\n",
    "    areas = [r.area for r in regionprops(label_image)]\n",
    "    areas.sort()\n",
    "    if len(areas) > 2:\n",
    "        for region in regionprops(label_image):\n",
    "            if region.area < areas[-2]:\n",
    "                for coordinates in region.coords:                \n",
    "                       label_image[coordinates[0], coordinates[1]] = 0\n",
    "    binary = label_image > 0\n",
    "    if plot == True:\n",
    "        plots[3].axis('off')\n",
    "        plots[3].imshow(binary, cmap=plt.cm.bone) \n",
    "    '''\n",
    "    Step 5: Erosion operation with a disk of radius 2. This operation is \n",
    "    seperate the lung nodules attached to the blood vessels.\n",
    "    '''\n",
    "    selem = disk(2)\n",
    "    binary = binary_erosion(binary, selem)\n",
    "    if plot == True:\n",
    "        plots[4].axis('off')\n",
    "        plots[4].imshow(binary, cmap=plt.cm.bone) \n",
    "    '''\n",
    "    Step 6: Closure operation with a disk of radius 10. This operation is \n",
    "    to keep nodules attached to the lung wall.\n",
    "    '''\n",
    "    selem = disk(10)\n",
    "    binary = binary_closing(binary, selem)\n",
    "    if plot == True:\n",
    "        plots[5].axis('off')\n",
    "        plots[5].imshow(binary, cmap=plt.cm.bone) \n",
    "    '''\n",
    "    Step 7: Fill in the small holes inside the binary mask of lungs.\n",
    "    '''\n",
    "    edges = roberts(binary)\n",
    "    binary = ndi.binary_fill_holes(edges)\n",
    "    if plot == True:\n",
    "        plots[6].axis('off')\n",
    "        plots[6].imshow(binary, cmap=plt.cm.bone) \n",
    "    '''\n",
    "    Step 8: Superimpose the binary mask on the input image.\n",
    "    '''\n",
    "    get_high_vals = binary == 0\n",
    "    im[get_high_vals] = 0\n",
    "    if plot == True:\n",
    "        plots[7].axis('off')\n",
    "        plots[7].imshow(im, cmap=plt.cm.bone) \n",
    "        \n",
    "    return im"
   ]
  },
  {
   "cell_type": "code",
   "execution_count": 169,
   "id": "f1cd047c",
   "metadata": {},
   "outputs": [],
   "source": [
    "def savePictures(path, index_list , image_width, image_height):\n",
    "    for index in index_list:\n",
    "        current_number = \"\"\n",
    "        if index < 10:\n",
    "            curent_number = \"000\" + str(index)\n",
    "        elif index < 100:\n",
    "            curent_number = \"00\" + str(index)\n",
    "        elif index < 1000:\n",
    "            curent_number = \"0\" + str(index)\n",
    "        else:\n",
    "            curent_number = str(index)\n",
    "        current_path = path + \"LNDb-\" + curent_number \n",
    "        image_array = sitk.GetArrayFromImage(sitk.ReadImage(current_path + \".mhd\", sitk.sitkFloat32))\n",
    "        image_array = resizeImages(image_array, image_width, image_height)\n",
    "        #image_array = normalize_array(image_array)\n",
    "        segmented_ct_scan = segment_lung_from_ct_scan(image_array)\n",
    "        segmented_ct_scan[segmented_ct_scan >= 500] = 1\n",
    "        segmented_ct_scan[segmented_ct_scan == 0] = -1000\n",
    "        np.save(current_path + \".jpg\", segmented_ct_scan)\n",
    "        "
   ]
  },
  {
   "cell_type": "code",
   "execution_count": 126,
   "id": "59cb5f18",
   "metadata": {},
   "outputs": [],
   "source": [
    "def plot_ct_scan(scan):\n",
    "    f, plots = plt.subplots(int(scan.shape[0] / 20) + 1, 4, figsize=(10, 40))\n",
    "    for i in range(0, scan.shape[0], 5):\n",
    "        plots[int(i / 20), int((i % 20) / 5)].axis('off')\n",
    "        plots[int(i / 20), int((i % 20) / 5)].imshow(scan[i], cmap=plt.cm.bone) "
   ]
  },
  {
   "cell_type": "code",
   "execution_count": 117,
   "id": "1b2d1ae6",
   "metadata": {},
   "outputs": [],
   "source": [
    "def segment_lung_from_ct_scan(ct_scan):\n",
    "    return np.asarray([get_segmented_lungs(slice) for slice in ct_scan])"
   ]
  },
  {
   "cell_type": "code",
   "execution_count": 146,
   "id": "4837001b",
   "metadata": {},
   "outputs": [
    {
     "data": {
      "text/plain": [
       "'img = sitk.GetArrayFromImage(sitk.ReadImage(\"d:/Licenta/Train/LNDb-0010.mhd\", sitk.sitkFloat32))\\nim = get_segmented_lungs(img[180], True)\\nsegmented_ct_scan = segment_lung_from_ct_scan(img)\\nsegmented_ct_scan[segmented_ct_scan >= 500] = 1\\nsegmented_ct_scan[segmented_ct_scan == 0] = -1000\\nplot_ct_scan(segmented_ct_scan)'"
      ]
     },
     "execution_count": 146,
     "metadata": {},
     "output_type": "execute_result"
    }
   ],
   "source": [
    "'''img = sitk.GetArrayFromImage(sitk.ReadImage(\"d:/Licenta/Train/LNDb-0010.mhd\", sitk.sitkFloat32))\n",
    "im = get_segmented_lungs(img[180], True)\n",
    "segmented_ct_scan = segment_lung_from_ct_scan(img)\n",
    "segmented_ct_scan[segmented_ct_scan >= 500] = 1\n",
    "segmented_ct_scan[segmented_ct_scan == 0] = -1000\n",
    "plot_ct_scan(segmented_ct_scan)'''"
   ]
  },
  {
   "cell_type": "code",
   "execution_count": 81,
   "id": "669c160c",
   "metadata": {},
   "outputs": [],
   "source": [
    "def show_slice_window(slice, level, window):\n",
    "    \"\"\"\n",
    "    Function to display an image slice\n",
    "    Input is a numpy 2D array\n",
    "    \"\"\"\n",
    "    maxi = level + window/2\n",
    "    mini = level - window/2\n",
    "    slice = slice.clip(mini,maxi)\n",
    "    plt.imshow(slice.T)\n",
    "    plt.gray()\n",
    "    plt.show()"
   ]
  },
  {
   "cell_type": "code",
   "execution_count": 50,
   "id": "ce313598",
   "metadata": {},
   "outputs": [],
   "source": [
    "def getLabel(id, train_labels):\n",
    "    labels = []\n",
    "    for el in train_labels:\n",
    "        if el[0] == id:\n",
    "            labels.append(el)\n",
    "    return labels"
   ]
  },
  {
   "cell_type": "code",
   "execution_count": 31,
   "id": "61ad5a69",
   "metadata": {},
   "outputs": [],
   "source": [
    "def getIndexLists(path_to_train, path_to_test):\n",
    "    train_index = pd.read_csv(path_to_train + \"trainCTs.csv\", skiprows=[0], usecols = [0], header = None) \n",
    "    test_index = pd.read_csv(path_to_test + \"testCTs.csv\", skiprows=[0], usecols = [0], header = None) \n",
    "    train_index = train_index[0].tolist()\n",
    "    test_index = test_index[0].tolist()\n",
    "    return train_index, test_index"
   ]
  },
  {
   "cell_type": "code",
   "execution_count": 38,
   "id": "5a36cb54",
   "metadata": {},
   "outputs": [],
   "source": [
    "def normalize_array(image_array):\n",
    "    normalized_array = []\n",
    "    for index in range(len(image_array)):\n",
    "        normalized_array.append(image_array[index] / 255)\n",
    "    return normalized_array"
   ]
  },
  {
   "cell_type": "code",
   "execution_count": 148,
   "id": "ddf7d73c",
   "metadata": {},
   "outputs": [],
   "source": [
    "def resizeImages(array_images,width, height):\n",
    "    img_stack_sm = np.zeros((len(array_images), height, width))\n",
    "    for idx in range(len(array_images)):\n",
    "        img = array_images[idx, :, :]\n",
    "        #img = cv2.cvtColor(img, cv2.COLOR_BGR2GRAY)\n",
    "        img_sm = cv2.resize(img, (width, height), interpolation=cv2.INTER_LANCZOS4)\n",
    "        img_stack_sm[idx, :, :] = img_sm\n",
    "    return img_stack_sm"
   ]
  },
  {
   "cell_type": "code",
   "execution_count": 46,
   "id": "11d31613",
   "metadata": {},
   "outputs": [],
   "source": [
    "def getPictures(path, label_list, index_list , image_width, image_height):\n",
    "    pictures = []\n",
    "    labels = []\n",
    "    for index in index_list:\n",
    "        current_label = []\n",
    "        current_number = \"\"\n",
    "        if index < 10:\n",
    "            curent_number = \"000\" + str(index)\n",
    "        elif index < 100:\n",
    "            curent_number = \"00\" + str(index)\n",
    "        elif index < 1000:\n",
    "            curent_number = \"0\" + str(index)\n",
    "        else:\n",
    "            curent_number = str(index)\n",
    "        current_path = path + \"LNDb-\" + curent_number + \".jpg.npy\"\n",
    "        current_label = getLabel(index, label_list)\n",
    "        labels.append(current_label)\n",
    "        image_array = np.asarray(np.load(current_path).astype(np.float32))\n",
    "        image_array = normalize_array(image_array)\n",
    "        pictures.append(image_array)\n",
    "    return pictures, labels"
   ]
  },
  {
   "cell_type": "code",
   "execution_count": 32,
   "id": "38971b82",
   "metadata": {},
   "outputs": [],
   "source": [
    "train_path = \"d:/Licenta/CSV/Train/\"\n",
    "test_path = \"d:/Licenta/CSV/Test/\"\n",
    "train_index, test_index = getIndexLists(train_path, test_path)"
   ]
  },
  {
   "cell_type": "code",
   "execution_count": 173,
   "id": "6d248f82",
   "metadata": {},
   "outputs": [],
   "source": [
    "savePictures(\"d:/Licenta/Train/\", train_index, 128, 128)"
   ]
  },
  {
   "cell_type": "code",
   "execution_count": 51,
   "id": "f5d6ac67",
   "metadata": {
    "scrolled": true
   },
   "outputs": [],
   "source": [
    "images, labels = getPictures(\"d:/Licenta/Train/\", train_label, train_index, 128, 128)"
   ]
  },
  {
   "cell_type": "code",
   "execution_count": null,
   "id": "1d72df6e",
   "metadata": {},
   "outputs": [],
   "source": [
    "#test_images = getPictures(\"d:/Licenta/Test/\", test_index, 128, 128)"
   ]
  },
  {
   "cell_type": "code",
   "execution_count": 52,
   "id": "be4d0d1b",
   "metadata": {},
   "outputs": [
    {
     "name": "stdout",
     "output_type": "stream",
     "text": [
      "236\n",
      "236\n"
     ]
    }
   ],
   "source": [
    "print(len(images))\n",
    "print(len(labels))\n",
    "#print(len(test_images))"
   ]
  },
  {
   "cell_type": "code",
   "execution_count": 53,
   "id": "21344a06",
   "metadata": {},
   "outputs": [],
   "source": [
    "X_train, X_test, Y_train, Y_test = [], [], [], []\n",
    "X_train, X_test, Y_train, Y_test = train_test_split(images,labels,test_size=0.2)"
   ]
  },
  {
   "cell_type": "code",
   "execution_count": 55,
   "id": "7bbbf7d3",
   "metadata": {},
   "outputs": [
    {
     "name": "stdout",
     "output_type": "stream",
     "text": [
      "[[0. 0. 0. ... 0. 0. 0.]\n",
      " [0. 0. 0. ... 0. 0. 0.]\n",
      " [0. 0. 0. ... 0. 0. 0.]\n",
      " ...\n",
      " [0. 0. 0. ... 0. 0. 0.]\n",
      " [0. 0. 0. ... 0. 0. 0.]\n",
      " [0. 0. 0. ... 0. 0. 0.]]\n"
     ]
    }
   ],
   "source": [
    "print(X_train[0])"
   ]
  },
  {
   "cell_type": "code",
   "execution_count": 62,
   "id": "1241def3",
   "metadata": {},
   "outputs": [
    {
     "data": {
      "image/png": "[encoded data removed]",
      "text/plain": [
       "<Figure size 432x288 with 1 Axes>"
      ]
     },
     "metadata": {
      "needs_background": "light"
     },
     "output_type": "display_data"
    }
   ],
   "source": [
    "plt.imshow(X_train[0])\n",
    "plt.show()"
   ]
  },
  {
   "cell_type": "code",
   "execution_count": null,
   "id": "baaa438c",
   "metadata": {},
   "outputs": [],
   "source": []
  }
 ],
 "metadata": {
  "kernelspec": {
   "display_name": "Python 3 (ipykernel)",
   "language": "python",
   "name": "python3"
  },
  "language_info": {
   "codemirror_mode": {
    "name": "ipython",
    "version": 3
   },
   "file_extension": ".py",
   "mimetype": "text/x-python",
   "name": "python",
   "nbconvert_exporter": "python",
   "pygments_lexer": "ipython3",
   "version": "3.9.7"
  }
 },
 "nbformat": 4,
 "nbformat_minor": 5
}
